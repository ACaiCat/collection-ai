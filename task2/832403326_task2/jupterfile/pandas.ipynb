{
 "cells": [
  {
   "cell_type": "code",
   "execution_count": 2,
   "metadata": {},
   "outputs": [],
   "source": [
    "import pandas as pd"
   ]
  },
  {
   "cell_type": "code",
   "execution_count": 67,
   "metadata": {},
   "outputs": [
    {
     "data": {
      "text/html": [
       "<div>\n",
       "<style scoped>\n",
       "    .dataframe tbody tr th:only-of-type {\n",
       "        vertical-align: middle;\n",
       "    }\n",
       "\n",
       "    .dataframe tbody tr th {\n",
       "        vertical-align: top;\n",
       "    }\n",
       "\n",
       "    .dataframe thead th {\n",
       "        text-align: right;\n",
       "    }\n",
       "</style>\n",
       "<table border=\"1\" class=\"dataframe\">\n",
       "  <thead>\n",
       "    <tr style=\"text-align: right;\">\n",
       "      <th></th>\n",
       "      <th>发布日期</th>\n",
       "      <th>发布部门</th>\n",
       "      <th>通知标题</th>\n",
       "      <th>通知链接</th>\n",
       "      <th>附件名</th>\n",
       "      <th>附件链接</th>\n",
       "      <th>下载次数</th>\n",
       "    </tr>\n",
       "  </thead>\n",
       "  <tbody>\n",
       "    <tr>\n",
       "      <th>0</th>\n",
       "      <td>2024-12-18</td>\n",
       "      <td>【质量办】</td>\n",
       "      <td>关于制定学院本科教学督导工作管理实施办法的通知</td>\n",
       "      <td>https://jwch.fzu.edu.cn/info/1040/13801.htm</td>\n",
       "      <td>附件1：福大教评24-3-福州大学关于印发本科教学督导工作管理实施办法的通知.pdf</td>\n",
       "      <td>https://jwch.fzu.edu.cn/system/_content/downlo...</td>\n",
       "      <td>33</td>\n",
       "    </tr>\n",
       "    <tr>\n",
       "      <th>1</th>\n",
       "      <td>2024-12-18</td>\n",
       "      <td>【质量办】</td>\n",
       "      <td>关于制定学院本科教学督导工作管理实施办法的通知</td>\n",
       "      <td>https://jwch.fzu.edu.cn/info/1040/13801.htm</td>\n",
       "      <td>附件2：学院本科教学督导组名单.docx</td>\n",
       "      <td>https://jwch.fzu.edu.cn/system/_content/downlo...</td>\n",
       "      <td>31</td>\n",
       "    </tr>\n",
       "    <tr>\n",
       "      <th>2</th>\n",
       "      <td>2024-12-18</td>\n",
       "      <td>【质量办】</td>\n",
       "      <td>关于上报学院本科教育教学质量保障2024年工作总结和2025年工作计划的通知</td>\n",
       "      <td>https://jwch.fzu.edu.cn/info/1040/13797.htm</td>\n",
       "      <td>无附件</td>\n",
       "      <td>无附件链接</td>\n",
       "      <td>无下载次数</td>\n",
       "    </tr>\n",
       "    <tr>\n",
       "      <th>3</th>\n",
       "      <td>2024-12-17</td>\n",
       "      <td>【教学运行】</td>\n",
       "      <td>关于2024-2025学年第一学期《中国近现代史纲要》课程期末考试安排的通知</td>\n",
       "      <td>https://jwch.fzu.edu.cn/info/1036/13796.htm</td>\n",
       "      <td>2401史纲随堂考.xlsx</td>\n",
       "      <td>https://jwch.fzu.edu.cn/system/_content/downlo...</td>\n",
       "      <td>145</td>\n",
       "    </tr>\n",
       "    <tr>\n",
       "      <th>4</th>\n",
       "      <td>2024-12-17</td>\n",
       "      <td>【教学运行】</td>\n",
       "      <td>关于2024-2025学年第一学期《大学英语（四）》课程期末考试安排的通知</td>\n",
       "      <td>https://jwch.fzu.edu.cn/info/1036/13795.htm</td>\n",
       "      <td>2401英语四期末考-12.29上午.xlsx</td>\n",
       "      <td>https://jwch.fzu.edu.cn/system/_content/downlo...</td>\n",
       "      <td>154</td>\n",
       "    </tr>\n",
       "    <tr>\n",
       "      <th>...</th>\n",
       "      <td>...</td>\n",
       "      <td>...</td>\n",
       "      <td>...</td>\n",
       "      <td>...</td>\n",
       "      <td>...</td>\n",
       "      <td>...</td>\n",
       "      <td>...</td>\n",
       "    </tr>\n",
       "    <tr>\n",
       "      <th>4147</th>\n",
       "      <td>2003-02-17</td>\n",
       "      <td>【综合科】</td>\n",
       "      <td>关于组织申报2003年霍英东奖的通知</td>\n",
       "      <td>https://jwch.fzu.edu.cn/info/1035/7935.htm</td>\n",
       "      <td>无附件</td>\n",
       "      <td>无附件链接</td>\n",
       "      <td>无下载次数</td>\n",
       "    </tr>\n",
       "    <tr>\n",
       "      <th>4148</th>\n",
       "      <td>2003-01-20</td>\n",
       "      <td>【综合科】</td>\n",
       "      <td>关于领取2003年1月份计算机等级考试成绩的通知</td>\n",
       "      <td>https://jwch.fzu.edu.cn/info/1035/7967.htm</td>\n",
       "      <td>无附件</td>\n",
       "      <td>无附件链接</td>\n",
       "      <td>无下载次数</td>\n",
       "    </tr>\n",
       "    <tr>\n",
       "      <th>4149</th>\n",
       "      <td>2002-12-04</td>\n",
       "      <td>【综合科】</td>\n",
       "      <td>关于高校基础课教学实验室建设中期检查会议的紧急通知</td>\n",
       "      <td>https://jwch.fzu.edu.cn/info/1035/7966.htm</td>\n",
       "      <td>无附件</td>\n",
       "      <td>无附件链接</td>\n",
       "      <td>无下载次数</td>\n",
       "    </tr>\n",
       "    <tr>\n",
       "      <th>4150</th>\n",
       "      <td>2002-11-05</td>\n",
       "      <td>【综合科】</td>\n",
       "      <td>关于福州大学首届“计算机绘图”竞赛的通知</td>\n",
       "      <td>https://jwch.fzu.edu.cn/info/1035/7964.htm</td>\n",
       "      <td>无附件</td>\n",
       "      <td>无附件链接</td>\n",
       "      <td>无下载次数</td>\n",
       "    </tr>\n",
       "    <tr>\n",
       "      <th>4151</th>\n",
       "      <td>2002-10-28</td>\n",
       "      <td>【综合科】</td>\n",
       "      <td>福州大学第二届“大学生物理实验竞赛”通知</td>\n",
       "      <td>https://jwch.fzu.edu.cn/info/1035/7962.htm</td>\n",
       "      <td>无附件</td>\n",
       "      <td>无附件链接</td>\n",
       "      <td>无下载次数</td>\n",
       "    </tr>\n",
       "  </tbody>\n",
       "</table>\n",
       "<p>4152 rows × 7 columns</p>\n",
       "</div>"
      ],
      "text/plain": [
       "            发布日期    发布部门                                    通知标题  \\\n",
       "0     2024-12-18   【质量办】                 关于制定学院本科教学督导工作管理实施办法的通知   \n",
       "1     2024-12-18   【质量办】                 关于制定学院本科教学督导工作管理实施办法的通知   \n",
       "2     2024-12-18   【质量办】  关于上报学院本科教育教学质量保障2024年工作总结和2025年工作计划的通知   \n",
       "3     2024-12-17  【教学运行】  关于2024-2025学年第一学期《中国近现代史纲要》课程期末考试安排的通知   \n",
       "4     2024-12-17  【教学运行】   关于2024-2025学年第一学期《大学英语（四）》课程期末考试安排的通知   \n",
       "...          ...     ...                                     ...   \n",
       "4147  2003-02-17   【综合科】                      关于组织申报2003年霍英东奖的通知   \n",
       "4148  2003-01-20   【综合科】                关于领取2003年1月份计算机等级考试成绩的通知   \n",
       "4149  2002-12-04   【综合科】               关于高校基础课教学实验室建设中期检查会议的紧急通知   \n",
       "4150  2002-11-05   【综合科】                    关于福州大学首届“计算机绘图”竞赛的通知   \n",
       "4151  2002-10-28   【综合科】                    福州大学第二届“大学生物理实验竞赛”通知   \n",
       "\n",
       "                                             通知链接  \\\n",
       "0     https://jwch.fzu.edu.cn/info/1040/13801.htm   \n",
       "1     https://jwch.fzu.edu.cn/info/1040/13801.htm   \n",
       "2     https://jwch.fzu.edu.cn/info/1040/13797.htm   \n",
       "3     https://jwch.fzu.edu.cn/info/1036/13796.htm   \n",
       "4     https://jwch.fzu.edu.cn/info/1036/13795.htm   \n",
       "...                                           ...   \n",
       "4147   https://jwch.fzu.edu.cn/info/1035/7935.htm   \n",
       "4148   https://jwch.fzu.edu.cn/info/1035/7967.htm   \n",
       "4149   https://jwch.fzu.edu.cn/info/1035/7966.htm   \n",
       "4150   https://jwch.fzu.edu.cn/info/1035/7964.htm   \n",
       "4151   https://jwch.fzu.edu.cn/info/1035/7962.htm   \n",
       "\n",
       "                                             附件名  \\\n",
       "0     附件1：福大教评24-3-福州大学关于印发本科教学督导工作管理实施办法的通知.pdf   \n",
       "1                           附件2：学院本科教学督导组名单.docx   \n",
       "2                                            无附件   \n",
       "3                                 2401史纲随堂考.xlsx   \n",
       "4                        2401英语四期末考-12.29上午.xlsx   \n",
       "...                                          ...   \n",
       "4147                                         无附件   \n",
       "4148                                         无附件   \n",
       "4149                                         无附件   \n",
       "4150                                         无附件   \n",
       "4151                                         无附件   \n",
       "\n",
       "                                                   附件链接   下载次数  \n",
       "0     https://jwch.fzu.edu.cn/system/_content/downlo...     33  \n",
       "1     https://jwch.fzu.edu.cn/system/_content/downlo...     31  \n",
       "2                                                 无附件链接  无下载次数  \n",
       "3     https://jwch.fzu.edu.cn/system/_content/downlo...    145  \n",
       "4     https://jwch.fzu.edu.cn/system/_content/downlo...    154  \n",
       "...                                                 ...    ...  \n",
       "4147                                              无附件链接  无下载次数  \n",
       "4148                                              无附件链接  无下载次数  \n",
       "4149                                              无附件链接  无下载次数  \n",
       "4150                                              无附件链接  无下载次数  \n",
       "4151                                              无附件链接  无下载次数  \n",
       "\n",
       "[4152 rows x 7 columns]"
      ]
     },
     "execution_count": 67,
     "metadata": {},
     "output_type": "execute_result"
    }
   ],
   "source": [
    "df = pd.read_csv(\"/Users/zhangyifeng/Desktop/getup-zyhtask2/notifications.csv\")#注意转译   \n",
    "df"
   ]
  },
  {
   "cell_type": "code",
   "execution_count": 9,
   "metadata": {},
   "outputs": [
    {
     "data": {
      "text/plain": [
       "Index(['发布日期', '发布部门', '通知标题', '通知链接', '附件名', '附件链接', '下载次数'], dtype='object')"
      ]
     },
     "execution_count": 9,
     "metadata": {},
     "output_type": "execute_result"
    }
   ],
   "source": [
    "df.columns"
   ]
  },
  {
   "cell_type": "code",
   "execution_count": null,
   "metadata": {},
   "outputs": [],
   "source": [
    "df.head(4034)"
   ]
  },
  {
   "cell_type": "code",
   "execution_count": null,
   "metadata": {},
   "outputs": [],
   "source": [
    "df.tail()#默认5行"
   ]
  },
  {
   "cell_type": "code",
   "execution_count": null,
   "metadata": {},
   "outputs": [],
   "source": [
    "df.dtypes#空值则为NaN"
   ]
  },
  {
   "cell_type": "code",
   "execution_count": 19,
   "metadata": {},
   "outputs": [
    {
     "data": {
      "text/plain": [
       "nan"
      ]
     },
     "execution_count": 19,
     "metadata": {},
     "output_type": "execute_result"
    }
   ],
   "source": [
    "import numpy as np\n",
    "np.nan#空值与零不相等 "
   ]
  },
  {
   "cell_type": "code",
   "execution_count": 59,
   "metadata": {},
   "outputs": [],
   "source": [
    "file_new=file.to_excel(\"/Users/zhangyifeng/Desktop/getup-zyhtask2/notifications(转).xlsx\",sheet_name=\"教务处\") \n",
    "file_new#注意保存是针对对象，而读取是用pd"
   ]
  },
  {
   "cell_type": "code",
   "execution_count": null,
   "metadata": {},
   "outputs": [],
   "source": [
    "df.describe()"
   ]
  },
  {
   "cell_type": "code",
   "execution_count": null,
   "metadata": {},
   "outputs": [],
   "source": [
    "df.info"
   ]
  },
  {
   "cell_type": "code",
   "execution_count": null,
   "metadata": {},
   "outputs": [],
   "source": [
    "#Jupyter Notebook 的设计初衷是：\n",
    "\t#1.\t自动输出单元格中最后一行非赋值语句的结果。\n",
    "\t#2.\t其他非最后一行的内容需要通过显式调用 print() 来显示。\n",
    "dps =df[\"发布部门\"]\n",
    "dps\n",
    "dps.head()"
   ]
  },
  {
   "cell_type": "code",
   "execution_count": 56,
   "metadata": {},
   "outputs": [
    {
     "data": {
      "text/plain": [
       "(4152,)"
      ]
     },
     "execution_count": 56,
     "metadata": {},
     "output_type": "execute_result"
    }
   ],
   "source": [
    "dps.shape"
   ]
  },
  {
   "cell_type": "code",
   "execution_count": 90,
   "metadata": {},
   "outputs": [
    {
     "name": "stdout",
     "output_type": "stream",
     "text": [
      "float64\n"
     ]
    }
   ],
   "source": [
    "#转换类型\n",
    "df['下载次数'] = pd.to_numeric(df['下载次数'], errors='coerce')\n",
    "print(df['下载次数'].dtypes)"
   ]
  },
  {
   "cell_type": "code",
   "execution_count": null,
   "metadata": {},
   "outputs": [],
   "source": [
    "dp_downum = df[[\"发布部门\",\"下载次数\"]]  \n",
    "dp_downum"
   ]
  },
  {
   "cell_type": "code",
   "execution_count": 58,
   "metadata": {},
   "outputs": [
    {
     "data": {
      "text/plain": [
       "(4152, 2)"
      ]
     },
     "execution_count": 58,
     "metadata": {},
     "output_type": "execute_result"
    }
   ],
   "source": [
    "dp_downum.shape#展示的是数据的结构，二维结构，dataframe"
   ]
  },
  {
   "cell_type": "code",
   "execution_count": 82,
   "metadata": {},
   "outputs": [
    {
     "data": {
      "text/plain": [
       "0       False\n",
       "1       False\n",
       "2       False\n",
       "3        True\n",
       "4        True\n",
       "        ...  \n",
       "4147    False\n",
       "4148    False\n",
       "4149    False\n",
       "4150    False\n",
       "4151    False\n",
       "Name: 下载次数, Length: 4152, dtype: bool"
      ]
     },
     "execution_count": 82,
     "metadata": {},
     "output_type": "execute_result"
    }
   ],
   "source": [
    "dp_downum[\"下载次数\"] > 100"
   ]
  },
  {
   "cell_type": "code",
   "execution_count": 87,
   "metadata": {},
   "outputs": [
    {
     "data": {
      "text/html": [
       "<div>\n",
       "<style scoped>\n",
       "    .dataframe tbody tr th:only-of-type {\n",
       "        vertical-align: middle;\n",
       "    }\n",
       "\n",
       "    .dataframe tbody tr th {\n",
       "        vertical-align: top;\n",
       "    }\n",
       "\n",
       "    .dataframe thead th {\n",
       "        text-align: right;\n",
       "    }\n",
       "</style>\n",
       "<table border=\"1\" class=\"dataframe\">\n",
       "  <thead>\n",
       "    <tr style=\"text-align: right;\">\n",
       "      <th></th>\n",
       "      <th>发布部门</th>\n",
       "      <th>下载次数</th>\n",
       "    </tr>\n",
       "  </thead>\n",
       "  <tbody>\n",
       "    <tr>\n",
       "      <th>34</th>\n",
       "      <td>【教学运行】</td>\n",
       "      <td>4057.0</td>\n",
       "    </tr>\n",
       "    <tr>\n",
       "      <th>67</th>\n",
       "      <td>【计划科】</td>\n",
       "      <td>4363.0</td>\n",
       "    </tr>\n",
       "    <tr>\n",
       "      <th>149</th>\n",
       "      <td>【实践科】</td>\n",
       "      <td>4546.0</td>\n",
       "    </tr>\n",
       "    <tr>\n",
       "      <th>211</th>\n",
       "      <td>【实践科】</td>\n",
       "      <td>5547.0</td>\n",
       "    </tr>\n",
       "    <tr>\n",
       "      <th>332</th>\n",
       "      <td>【教学运行】</td>\n",
       "      <td>8908.0</td>\n",
       "    </tr>\n",
       "    <tr>\n",
       "      <th>410</th>\n",
       "      <td>【实践科】</td>\n",
       "      <td>5644.0</td>\n",
       "    </tr>\n",
       "    <tr>\n",
       "      <th>413</th>\n",
       "      <td>【实践科】</td>\n",
       "      <td>4319.0</td>\n",
       "    </tr>\n",
       "    <tr>\n",
       "      <th>479</th>\n",
       "      <td>【实践科】</td>\n",
       "      <td>6623.0</td>\n",
       "    </tr>\n",
       "    <tr>\n",
       "      <th>547</th>\n",
       "      <td>【实践科】</td>\n",
       "      <td>4590.0</td>\n",
       "    </tr>\n",
       "    <tr>\n",
       "      <th>584</th>\n",
       "      <td>【教学运行】</td>\n",
       "      <td>4511.0</td>\n",
       "    </tr>\n",
       "    <tr>\n",
       "      <th>585</th>\n",
       "      <td>【教学运行】</td>\n",
       "      <td>9148.0</td>\n",
       "    </tr>\n",
       "    <tr>\n",
       "      <th>687</th>\n",
       "      <td>【实践科】</td>\n",
       "      <td>5742.0</td>\n",
       "    </tr>\n",
       "    <tr>\n",
       "      <th>688</th>\n",
       "      <td>【实践科】</td>\n",
       "      <td>4949.0</td>\n",
       "    </tr>\n",
       "    <tr>\n",
       "      <th>740</th>\n",
       "      <td>【实践科】</td>\n",
       "      <td>10728.0</td>\n",
       "    </tr>\n",
       "    <tr>\n",
       "      <th>770</th>\n",
       "      <td>【实践科】</td>\n",
       "      <td>4379.0</td>\n",
       "    </tr>\n",
       "    <tr>\n",
       "      <th>802</th>\n",
       "      <td>【实践科】</td>\n",
       "      <td>7291.0</td>\n",
       "    </tr>\n",
       "    <tr>\n",
       "      <th>804</th>\n",
       "      <td>【实践科】</td>\n",
       "      <td>6838.0</td>\n",
       "    </tr>\n",
       "    <tr>\n",
       "      <th>805</th>\n",
       "      <td>【实践科】</td>\n",
       "      <td>6386.0</td>\n",
       "    </tr>\n",
       "    <tr>\n",
       "      <th>851</th>\n",
       "      <td>【教学运行】</td>\n",
       "      <td>7942.0</td>\n",
       "    </tr>\n",
       "    <tr>\n",
       "      <th>866</th>\n",
       "      <td>【实践科】</td>\n",
       "      <td>4793.0</td>\n",
       "    </tr>\n",
       "    <tr>\n",
       "      <th>1100</th>\n",
       "      <td>【教学运行】</td>\n",
       "      <td>4278.0</td>\n",
       "    </tr>\n",
       "  </tbody>\n",
       "</table>\n",
       "</div>"
      ],
      "text/plain": [
       "        发布部门     下载次数\n",
       "34    【教学运行】   4057.0\n",
       "67     【计划科】   4363.0\n",
       "149    【实践科】   4546.0\n",
       "211    【实践科】   5547.0\n",
       "332   【教学运行】   8908.0\n",
       "410    【实践科】   5644.0\n",
       "413    【实践科】   4319.0\n",
       "479    【实践科】   6623.0\n",
       "547    【实践科】   4590.0\n",
       "584   【教学运行】   4511.0\n",
       "585   【教学运行】   9148.0\n",
       "687    【实践科】   5742.0\n",
       "688    【实践科】   4949.0\n",
       "740    【实践科】  10728.0\n",
       "770    【实践科】   4379.0\n",
       "802    【实践科】   7291.0\n",
       "804    【实践科】   6838.0\n",
       "805    【实践科】   6386.0\n",
       "851   【教学运行】   7942.0\n",
       "866    【实践科】   4793.0\n",
       "1100  【教学运行】   4278.0"
      ]
     },
     "execution_count": 87,
     "metadata": {},
     "output_type": "execute_result"
    }
   ],
   "source": [
    "above_1000=dp_downum[dp_downum[\"下载次数\"] > 4000]\n",
    "above_1000"
   ]
  },
  {
   "cell_type": "code",
   "execution_count": null,
   "metadata": {},
   "outputs": [],
   "source": [
    "#过滤操作 ，本质选择True\n",
    "综合科 = df[(df[\"发布部门\"]== \"【综合科】\")]\n",
    "综合科"
   ]
  },
  {
   "cell_type": "code",
   "execution_count": null,
   "metadata": {},
   "outputs": [],
   "source": [
    "\n",
    "纯下载次数 = df[df[\"下载次数\"].notna()]\n",
    "纯下载次数.info"
   ]
  },
  {
   "cell_type": "code",
   "execution_count": null,
   "metadata": {},
   "outputs": [],
   "source": [
    "\n",
    "about_title = df.loc[df[\"下载次数\"]>2000,\"通知标题\"]##注意在添加\"发布部门“等会报too many index的错误 \n",
    "about_title"
   ]
  },
  {
   "cell_type": "code",
   "execution_count": null,
   "metadata": {},
   "outputs": [],
   "source": [
    "df.iloc[9:25,2:5]#注意切片后一项取不到"
   ]
  },
  {
   "cell_type": "code",
   "execution_count": null,
   "metadata": {},
   "outputs": [],
   "source": [
    "#赋值语句\n",
    "df.iloc[0:3,1] = \"不详\"\n",
    "df.head()"
   ]
  },
  {
   "cell_type": "markdown",
   "metadata": {},
   "source": [
    "## 可视化\n",
    "df.plot.绘图方法（x=\"\", y=\"\",alpha=0.5）\n",
    "df.plot.line"
   ]
  },
  {
   "cell_type": "markdown",
   "metadata": {},
   "source": []
  },
  {
   "cell_type": "code",
   "execution_count": 105,
   "metadata": {},
   "outputs": [
    {
     "data": {
      "text/plain": [
       "发布部门\n",
       "【教学运行】    40.292586\n",
       "【实践科】     23.456484\n",
       "【教研教改】    12.100174\n",
       "【质量办】      8.975948\n",
       "【综合科】      7.289859\n",
       "【计划科】      4.909497\n",
       "【教学通知】     1.636499\n",
       "【教材中心】     1.338954\n",
       "Name: count, dtype: float64"
      ]
     },
     "execution_count": 105,
     "metadata": {},
     "output_type": "execute_result"
    }
   ],
   "source": [
    "from matplotlib import pyplot as plt\n",
    "import pandas as pd\n",
    "\n",
    "\n",
    "plt.rcParams['font.sans-serif'] = ['Kai']  # 设置字体\n",
    "plt.rcParams['axes.unicode_minus'] = False      # 正常显示负号\n",
    "\n",
    "# 读取 CSV 文件\n",
    "df = pd.read_csv('/Users/zhangyifeng/Desktop/getup-zyhtask2/notifications.csv')\n",
    "\n",
    "# 选择第 2 行到第 4034 行的数据\n",
    "subset_df = df.iloc[1:4034]\n",
    "\n",
    "# 统计部门数量\n",
    "department_counts = subset_df['发布部门'].value_counts()\n",
    "department_counts\n",
    "department_percentages = (department_counts / len(subset_df)) * 100\n",
    "department_percentages"
   ]
  },
  {
   "cell_type": "code",
   "execution_count": 106,
   "metadata": {},
   "outputs": [
    {
     "data": {
      "text/plain": [
       "0          33\n",
       "1          31\n",
       "2       无下载次数\n",
       "3         145\n",
       "4         154\n",
       "        ...  \n",
       "4147    无下载次数\n",
       "4148    无下载次数\n",
       "4149    无下载次数\n",
       "4150    无下载次数\n",
       "4151    无下载次数\n",
       "Name: 下载次数, Length: 4152, dtype: object"
      ]
     },
     "execution_count": 106,
     "metadata": {},
     "output_type": "execute_result"
    }
   ],
   "source": []
  },
  {
   "cell_type": "code",
   "execution_count": 109,
   "metadata": {},
   "outputs": [
    {
     "name": "stdout",
     "output_type": "stream",
     "text": [
      "<module 'random' from '/Library/Frameworks/Python.framework/Versions/3.12/lib/python3.12/random.py'>\n"
     ]
    }
   ],
   "source": [
    "import random\n",
    "x = random.random\n",
    "print(random)\n"
   ]
  }
 ],
 "metadata": {
  "kernelspec": {
   "display_name": "Python 3",
   "language": "python",
   "name": "python3"
  },
  "language_info": {
   "codemirror_mode": {
    "name": "ipython",
    "version": 3
   },
   "file_extension": ".py",
   "mimetype": "text/x-python",
   "name": "python",
   "nbconvert_exporter": "python",
   "pygments_lexer": "ipython3",
   "version": "3.12.5"
  }
 },
 "nbformat": 4,
 "nbformat_minor": 2
}
